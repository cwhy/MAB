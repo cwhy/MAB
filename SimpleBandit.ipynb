{
 "cells": [
  {
   "cell_type": "code",
   "execution_count": 1,
   "metadata": {
    "collapsed": false
   },
   "outputs": [
    {
     "name": "stderr",
     "output_type": "stream",
     "text": [
      "/usr/local/lib/python3.4/dist-packages/matplotlib/font_manager.py:273: UserWarning: Matplotlib is building the font cache using fc-list. This may take a moment.\n",
      "  warnings.warn('Matplotlib is building the font cache using fc-list. This may take a moment.')\n",
      "/usr/local/lib/python3.4/dist-packages/matplotlib/font_manager.py:273: UserWarning: Matplotlib is building the font cache using fc-list. This may take a moment.\n",
      "  warnings.warn('Matplotlib is building the font cache using fc-list. This may take a moment.')\n"
     ]
    }
   ],
   "source": [
    "%matplotlib inline\n",
    "import numpy as np\n",
    "import numpy.random as rand\n",
    "import matplotlib.pyplot as plt"
   ]
  },
  {
   "cell_type": "markdown",
   "metadata": {},
   "source": [
    "## Generate multi-arm machines\n",
    "* user-input: arm no.\n",
    "* return: loss"
   ]
  },
  {
   "cell_type": "code",
   "execution_count": 2,
   "metadata": {
    "collapsed": false
   },
   "outputs": [
    {
     "name": "stdout",
     "output_type": "stream",
     "text": [
      "[ 0.38994684  0.13741679  0.85902938  0.22821949]\n"
     ]
    }
   ],
   "source": [
    "class Class_Dict:\n",
    "    def __iter__(self):\n",
    "        for attr in dir(Class_Dict):\n",
    "            if not attr.startswith(\"__\"):\n",
    "                yield attr\n",
    "\n",
    "config = Class_Dict()\n",
    "config.n_arms = 4\n",
    "config.initial_arm_status = np.zeros(config.n_arms)\n",
    "\n",
    "class Arms:\n",
    "    def __init__(self, config):\n",
    "        self.n_arms = config.n_arms\n",
    "        self.hidden_status = rand.rand(self.n_arms)\n",
    "        \n",
    "        \n",
    "    def pulled(self, i_arm):\n",
    "        p = self.hidden_status[i_arm]\n",
    "        return rand.binomial(1, p)\n",
    "        \n",
    "\n",
    "arms = Arms(config)\n",
    "print(arms.hidden_status)"
   ]
  },
  {
   "cell_type": "markdown",
   "metadata": {},
   "source": [
    "## Human-playable multi-arm bandit game\n",
    "\n",
    "### Introduce general bandit"
   ]
  },
  {
   "cell_type": "code",
   "execution_count": 3,
   "metadata": {
    "collapsed": true
   },
   "outputs": [],
   "source": [
    "class Bandit:\n",
    "    def __init__(self, config):\n",
    "        self.n_arms = config.n_arms\n",
    "        self.reward_history = []\n",
    "        self.arm_history = []\n",
    "    \n",
    "    # abstract\n",
    "    def choose(self):\n",
    "        pass\n",
    "    \n",
    "    # abstract\n",
    "    def learn(self):\n",
    "        pass\n",
    "    \n",
    "    def pull_and_learn(self, arms):\n",
    "        i_arm = self.choose()\n",
    "        reward = arms.pulled(i_arm)\n",
    "        \n",
    "        self.arm_history.append(i_arm)\n",
    "        self.reward_history.append(reward)\n",
    "    \n",
    "        self.learn(i_arm, reward)\n",
    "        \n",
    "    def plot_history(self):\n",
    "        plt.plot(np.cumsum(self.reward_history))\n",
    "        plt.show()\n",
    "        plt.scatter(range(len(self.arm_history)), self.arm_history)\n",
    "        plt.show()"
   ]
  },
  {
   "cell_type": "markdown",
   "metadata": {},
   "source": [
    "### Define Human-player"
   ]
  },
  {
   "cell_type": "code",
   "execution_count": 4,
   "metadata": {
    "collapsed": false
   },
   "outputs": [
    {
     "name": "stdout",
     "output_type": "stream",
     "text": [
      "Enter the number of rounds you want to play: 10\n",
      "Choose the arm you think that will give you more reward\n",
      "from a total number of 4 arms\n",
      "Enter a number from 0 to 3: 0\n",
      "Your choice is arm:  0\n",
      "Your reward is:  0\n",
      "Enter a number from 0 to 3: 0\n",
      "Your choice is arm:  0\n",
      "Your reward is:  0\n",
      "Enter a number from 0 to 3: 0\n",
      "Your choice is arm:  0\n",
      "Your reward is:  0\n",
      "Enter a number from 0 to 3: 1\n",
      "Your choice is arm:  1\n",
      "Your reward is:  0\n",
      "Enter a number from 0 to 3: 2\n",
      "Your choice is arm:  2\n",
      "Your reward is:  1\n",
      "Enter a number from 0 to 3: 3\n",
      "Your choice is arm:  3\n",
      "Your reward is:  1\n",
      "Enter a number from 0 to 3: 3\n",
      "Your choice is arm:  3\n",
      "Your reward is:  0\n",
      "Enter a number from 0 to 3: 2\n",
      "Your choice is arm:  2\n",
      "Your reward is:  1\n",
      "Enter a number from 0 to 3: 2\n",
      "Your choice is arm:  2\n",
      "Your reward is:  1\n",
      "Enter a number from 0 to 3: 2\n",
      "Your choice is arm:  2\n",
      "Your reward is:  1\n",
      "Your performence\n"
     ]
    },
    {
     "data": {
      "image/png": "[encoded data removed]",
      "text/plain": [
       "<matplotlib.figure.Figure at 0x7f119915a240>"
      ]
     },
     "metadata": {},
     "output_type": "display_data"
    },
    {
     "data": {
      "image/png": "[encoded data removed]",
      "text/plain": [
       "<matplotlib.figure.Figure at 0x7f1198e11940>"
      ]
     },
     "metadata": {},
     "output_type": "display_data"
    }
   ],
   "source": [
    "class Player(Bandit):\n",
    "    def __init__(self, config):\n",
    "        Bandit.__init__(self, config)\n",
    "        \n",
    "    def choose(self):\n",
    "        return int(input(\"Enter a number from 0 to \" + str(self.n_arms - 1) + \": \"))\n",
    "    \n",
    "    def learn(self, i_arm, reward):\n",
    "        print(\"Your choice is arm: \", i_arm)\n",
    "        print(\"Your reward is: \", reward)\n",
    "\n",
    "    def start(self, arms):\n",
    "        rounds = int(input(\"Enter the number of rounds you want to play: \"))\n",
    "        print(\"Choose the arm you think that will give you more reward\", )\n",
    "        print(\"from a total number of \" + str(self.n_arms) + \" arms\", )\n",
    "        for _ in range(rounds):\n",
    "            self.pull_and_learn(arms)\n",
    "        \n",
    "        \n",
    "player = Player(config)\n",
    "player.start(arms)\n",
    "print(\"Your performence\")\n",
    "player.plot_history()"
   ]
  },
  {
   "cell_type": "markdown",
   "metadata": {},
   "source": [
    "## Define the Thompson bandit"
   ]
  },
  {
   "cell_type": "code",
   "execution_count": 5,
   "metadata": {
    "collapsed": false
   },
   "outputs": [],
   "source": [
    "class Thompson(Bandit):\n",
    "    def __init__(self, config):\n",
    "        Bandit.__init__(self, config)\n",
    "        \n",
    "        # Define the prior of the Beta distribution\n",
    "        self.a = np.ones(self.n_arms)\n",
    "        self.b = np.ones(self.n_arms)\n",
    "        \n",
    "    def choose(self):\n",
    "        guess = np.zeros(self.n_arms)\n",
    "        for i_arm in range(self.n_arms):\n",
    "            guess[i_arm] = rand.beta(self.a[i_arm], self.b[i_arm])\n",
    "        return np.argmax(guess)\n",
    "    \n",
    "    def learn(self, i_arm, reward):\n",
    "        # According to beta posterior update by binomial(n=1) data \n",
    "        self.a[i_arm] += reward\n",
    "        self.b[i_arm] += 1 - reward"
   ]
  },
  {
   "cell_type": "code",
   "execution_count": 6,
   "metadata": {
    "collapsed": false
   },
   "outputs": [
    {
     "name": "stdout",
     "output_type": "stream",
     "text": [
      "[ 0.38994684  0.13741679  0.85902938  0.22821949]\n"
     ]
    },
    {
     "data": {
      "image/png": "[encoded data removed]",
      "text/plain": [
       "<matplotlib.figure.Figure at 0x7f1196d9b240>"
      ]
     },
     "metadata": {},
     "output_type": "display_data"
    },
    {
     "data": {
      "image/png": "[encoded data removed]",
      "text/plain": [
       "<matplotlib.figure.Figure at 0x7f1196d27eb8>"
      ]
     },
     "metadata": {},
     "output_type": "display_data"
    }
   ],
   "source": [
    "th = Thompson(config)\n",
    "print(arms.hidden_status)\n",
    "for _ in range(1000):\n",
    "    th.pull_and_learn(arms)\n",
    "\n",
    "th.plot_history()"
   ]
  },
  {
   "cell_type": "markdown",
   "metadata": {},
   "source": [
    "## Define the UCB1 Bandit"
   ]
  },
  {
   "cell_type": "code",
   "execution_count": 12,
   "metadata": {
    "collapsed": false
   },
   "outputs": [],
   "source": [
    "class UCB1(Bandit):\n",
    "    def __init__(self, config):\n",
    "        Bandit.__init__(self, config)\n",
    "        \n",
    "        # Define time\n",
    "        self.t = 0\n",
    "        \n",
    "        # Record sum of the reward of each arm\n",
    "        self.sum_reward = np.zeros(self.n_arms)\n",
    "        \n",
    "        # Record how many times each arm have been pulled\n",
    "        self.times_pulled = np.zeros(self.n_arms)\n",
    "        \n",
    "    def choose(self):\n",
    "        if self.t < self.n_arms:\n",
    "            return self.t\n",
    "        else:\n",
    "            guess = np.zeros(self.n_arms)\n",
    "            for i_arm in range(self.n_arms):\n",
    "                guess[i_arm] = self.ucb1(i_arm)\n",
    "            return np.argmax(guess)\n",
    "        \n",
    "        \n",
    "    def ucb1(self, i_arm):\n",
    "        ave_r = self.sum_reward[i_arm]/self.times_pulled[i_arm]\n",
    "        return ave_r + np.sqrt(2*np.log(self.t)/self.times_pulled[i_arm])\n",
    "        \n",
    "    def learn(self, i_arm, reward):\n",
    "        # time pass by \n",
    "        self.sum_reward[i_arm] += reward\n",
    "        self.times_pulled[i_arm] += 1\n",
    "        self.t += 1"
   ]
  },
  {
   "cell_type": "code",
   "execution_count": 13,
   "metadata": {
    "collapsed": false
   },
   "outputs": [
    {
     "name": "stdout",
     "output_type": "stream",
     "text": [
      "[ 0.38994684  0.13741679  0.85902938  0.22821949]\n"
     ]
    },
    {
     "data": {
      "image/png": "[encoded data removed]",
      "text/plain": [
       "<matplotlib.figure.Figure at 0x7f1196c1aeb8>"
      ]
     },
     "metadata": {},
     "output_type": "display_data"
    },
    {
     "data": {
      "image/png": "[encoded data removed]",
      "text/plain": [
       "<matplotlib.figure.Figure at 0x7f1196bff080>"
      ]
     },
     "metadata": {},
     "output_type": "display_data"
    }
   ],
   "source": [
    "uc = UCB1(config)\n",
    "print(arms.hidden_status)\n",
    "for _ in range(1000):\n",
    "    uc.pull_and_learn(arms)\n",
    "\n",
    "uc.plot_history()"
   ]
  },
  {
   "cell_type": "markdown",
   "metadata": {},
   "source": [
    "## Comparison"
   ]
  },
  {
   "cell_type": "code",
   "execution_count": null,
   "metadata": {
    "collapsed": true
   },
   "outputs": [],
   "source": [
    "th = Thompson(config)\n",
    "uc = UCB1(config)\n",
    "\n",
    "for _ in range(1000):\n",
    "    th.pull_and_learn(arms)\n",
    "    uc.pull_and_learn(arms)\n",
    "\n",
    "plt.plot(np.cumsum(th.reward_history))\n",
    "plt.plot(np.cumsum(uc.reward_history))\n",
    "plt.show()\n",
    "#plt.scatter(range(len(self.arm_history)), self.arm_history)\n",
    "#plt.show()"
   ]
  }
 ],
 "metadata": {
  "kernelspec": {
   "display_name": "Python 3",
   "language": "python",
   "name": "python3"
  },
  "language_info": {
   "codemirror_mode": {
    "name": "ipython",
    "version": 3
   },
   "file_extension": ".py",
   "mimetype": "text/x-python",
   "name": "python",
   "nbconvert_exporter": "python",
   "pygments_lexer": "ipython3",
   "version": "3.4.3"
  }
 },
 "nbformat": 4,
 "nbformat_minor": 0
}
